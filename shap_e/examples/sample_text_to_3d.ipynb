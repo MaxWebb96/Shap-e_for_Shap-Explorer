{
 "cells": [
  {
   "cell_type": "code",
   "execution_count": 1,
   "id": "964ccced",
   "metadata": {},
   "outputs": [],
   "source": [
    "import torch\n",
    "\n",
    "from shap_e.diffusion.sample import sample_latents\n",
    "from shap_e.diffusion.gaussian_diffusion import diffusion_from_config\n",
    "from shap_e.models.download import load_model, load_config\n",
    "from shap_e.util.notebooks import create_pan_cameras, decode_latent_images, gif_widget\n",
    "\n",
    "from PIL import Image\n",
    "import torchvision.transforms as transforms\n",
    "import os\n",
    "import numpy as np\n"
   ]
  },
  {
   "cell_type": "code",
   "execution_count": 2,
   "id": "8eed3a76",
   "metadata": {},
   "outputs": [],
   "source": [
    "device = torch.device('cuda' if torch.cuda.is_available() else 'cpu')"
   ]
  },
  {
   "cell_type": "code",
   "execution_count": 3,
   "id": "2d922637",
   "metadata": {},
   "outputs": [],
   "source": [
    "xm = load_model('transmitter', device=device)\n",
    "model = load_model('text300M', device=device)\n",
    "diffusion = diffusion_from_config(load_config('diffusion'))"
   ]
  },
  {
   "cell_type": "code",
   "execution_count": 4,
   "id": "53d329d0",
   "metadata": {},
   "outputs": [
    {
     "data": {
      "application/vnd.jupyter.widget-view+json": {
       "model_id": "c4e31670812a4684b2228b0e6e83e984",
       "version_major": 2,
       "version_minor": 0
      },
      "text/plain": [
       "  0%|          | 0/64 [00:00<?, ?it/s]"
      ]
     },
     "metadata": {},
     "output_type": "display_data"
    }
   ],
   "source": [
    "batch_size = 1 # default:4\n",
    "guidance_scale = 16.0 #default: 16.0\n",
    "\n",
    "prompt = \"a chair\"\n",
    "# prompt = \"an office space with a large window that lets in natural light, a desk with a lamp for task lighting, and a lounge area with dimmable wall sconces for relaxed ambiance\"\n",
    "# prompt = \"A modern, S-shape black chair with a minimalist design a circular base, featuring neon blue accent lighting along its contours\"\n",
    "# prompt = \"a chair\"\n",
    "# prompt = \"a circular wooden pavilion with a stone floor\"\n",
    "# prompt = \"a fierce dragon with a feather wing\"\n",
    "# prompt = \"a corgi\"\n",
    "\n",
    "latents = sample_latents(\n",
    "    batch_size=batch_size,\n",
    "    model=model,\n",
    "    diffusion=diffusion,\n",
    "    guidance_scale=guidance_scale,\n",
    "    model_kwargs=dict(texts=[prompt] * batch_size),\n",
    "    progress=True,\n",
    "    clip_denoised=True,\n",
    "    use_fp16=True,\n",
    "    use_karras=True,\n",
    "    karras_steps=64,\n",
    "    sigma_min=1e-3,\n",
    "    sigma_max=160,\n",
    "    s_churn=0,\n",
    ")"
   ]
  },
  {
   "cell_type": "code",
   "execution_count": 5,
   "id": "633da2ec",
   "metadata": {},
   "outputs": [],
   "source": [
    "# render_mode = 'nerf' # you can change this to 'stf' / 'nerf' (Neural Radiance Fields)\n",
    "# size = 128 # this is the size of the renders; higher values take longer to render.\n",
    "\n",
    "\n",
    "# to_pil = transforms.ToPILImage()\n",
    "# save_dir = '../img'\n",
    "# os.makedirs(save_dir, exist_ok=True)\n",
    "# print('creating cameras...')\n",
    "# cameras = create_pan_cameras(size, device)\n",
    "\n",
    "\n",
    "# for i, latent in enumerate(latents):\n",
    "#     print(f'creating images...{len(latents)-i}left')\n",
    "\n",
    "#     images = decode_latent_images(xm, latent, cameras, rendering_mode=render_mode)\n",
    "#     print(f'images done, saving...{len(latents)-i}left')\n",
    "#     print('saving...')\n",
    "#     # save\n",
    "#     pil_images = []\n",
    "#     for j, img in enumerate(images):\n",
    "#         if isinstance(img, Image.Image):\n",
    "#             # If img is already a PIL Image, no need to convert\n",
    "#             pil_img = img\n",
    "#         elif hasattr(img, 'cpu') and callable(getattr(img, 'cpu')):\n",
    "#             # If it has a 'cpu' attribute, it might be a PyTorch tensor\n",
    "#             pil_img = Image.fromarray(img.cpu().detach().numpy().astype('uint8'))\n",
    "#         elif isinstance(img, np.ndarray):\n",
    "#             # If it's a NumPy array, convert directly to PIL\n",
    "#             pil_img = Image.fromarray(img)\n",
    "#         else:\n",
    "#             raise TypeError(f\"Unsupported image type: {type(img)}\")\n",
    "\n",
    "#         # Save the image\n",
    "#         pil_images.append(pil_img)\n",
    "#         print(f'{j} saved')\n",
    "    \n",
    "#     gif_path = os.path.join(save_dir, f\"{prompt}_{i}.gif\")\n",
    "#     pil_images[0].save(\n",
    "#         gif_path,\n",
    "#         save_all=True,\n",
    "#         append_images=pil_images[1:],\n",
    "#         duration=100,  # Duration between frames in milliseconds (adjust as needed)\n",
    "#         loop=0  # Number of times the GIF should loop (0 means infinite)\n",
    "#     )\n",
    "\n",
    "#     display(gif_widget(images))\n",
    "\n"
   ]
  },
  {
   "cell_type": "code",
   "execution_count": 6,
   "id": "85a4dce4",
   "metadata": {},
   "outputs": [],
   "source": [
    "######## Example of saving the latents as meshes.\n",
    "# import os\n",
    "# from shap_e.util.notebooks import decode_latent_mesh\n",
    "\n",
    "# folder_path = '../meshes'\n",
    "# if not os.path.exists(folder_path):\n",
    "#     os.makedirs(folder_path)\n",
    "\n",
    "\n",
    "# filename_length = 10\n",
    "# file_name = prompt[:filename_length]\n",
    "\n",
    "# for i, latent in enumerate(latents):\n",
    "#     t = decode_latent_mesh(xm, latent).tri_mesh()\n",
    "\n",
    "#     ply_filename = os.path.join(folder_path, f'{file_name}_{i}.ply')\n",
    "#     obj_filename = os.path.join(folder_path, f'{file_name}_{i}.obj')\n",
    "#     with open(ply_filename, 'wb') as f:\n",
    "#         t.write_ply(f)\n",
    "#     # with open(obj_filename, 'w') as f:\n",
    "#     #     t.write_obj(f)"
   ]
  },
  {
   "cell_type": "code",
   "execution_count": 15,
   "id": "1c91aaee",
   "metadata": {},
   "outputs": [
    {
     "name": "stdout",
     "output_type": "stream",
     "text": [
      "Generating mesh 0\n",
      "Writing file 0\n",
      "File 0 written\n"
     ]
    }
   ],
   "source": [
    "######test api.py###############    \n",
    "import os\n",
    "from shap_e.util.notebooks import decode_latent_mesh\n",
    "\n",
    "filename_length = 10\n",
    "file_name = prompt[:filename_length]\n",
    "\n",
    "\n",
    "# Define a path in a local directory where you have write permissions\n",
    "# local_directory = '../../../data'\n",
    "\n",
    "\n",
    "# if not os.path.exists(local_directory):\n",
    "#         print(f'Creating directory {local_directory}')\n",
    "#         os.makedirs(local_directory)\n",
    "\n",
    "for i, latent in enumerate(latents):\n",
    "        print(f'Generating mesh {i}')\n",
    "        t = decode_latent_mesh(xm, latent).tri_mesh()\n",
    "        \n",
    "        print(f'Writing file {i}')\n",
    "        # Construct the full file path\n",
    "        # ply_filename = os.path.join(local_directory, f'{file_name}_{i}.ply')\n",
    "        \n",
    "        # with open(ply_filename, 'wb') as f:\n",
    "        #         t.write_ply(f)\n",
    "\n",
    "        local_directory = os.path.abspath('data')\n",
    "        if not os.path.exists(local_directory):\n",
    "                print(f'Creating directory {local_directory}')\n",
    "                os.makedirs(local_directory)\n",
    "        file_name = f'{file_name}_{i}.obj'\n",
    "        full_path = os.path.join(local_directory, file_name)\n",
    "\n",
    "        # obj_filename = os.path.join(local_directory, f'{file_name}_{i}.obj')\n",
    "        with open(full_path, 'w') as f:\n",
    "                t.write_obj(f)\n",
    "        print(f'File {i} written')\n",
    "        # Now send the file to the client\n",
    "        # return send_file(ply_filename, as_attachment=True, download_name=f'{file_name}_{i}.ply')"
   ]
  }
 ],
 "metadata": {
  "kernelspec": {
   "display_name": "Python 3 (ipykernel)",
   "language": "python",
   "name": "python3"
  },
  "language_info": {
   "codemirror_mode": {
    "name": "ipython",
    "version": 3
   },
   "file_extension": ".py",
   "mimetype": "text/x-python",
   "name": "python",
   "nbconvert_exporter": "python",
   "pygments_lexer": "ipython3",
   "version": "3.9.16"
  }
 },
 "nbformat": 4,
 "nbformat_minor": 5
}
